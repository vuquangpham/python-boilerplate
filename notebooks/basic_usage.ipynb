{
 "cells": [
  {
   "cell_type": "code",
   "execution_count": null,
   "metadata": {},
   "outputs": [
    {
     "name": "stdout",
     "output_type": "stream",
     "text": [
      "Hello from python-project!\n",
      "Generated list: [0, 1, 2, 3, 4, 5, 6, 7, 8, 9]\n",
      "App version: 0.1.0\n"
     ]
    }
   ],
   "source": [
    "# Import the main function from the app module\n",
    "from app.main import main\n",
    "\n",
    "# Call the imported function\n",
    "main()\n",
    "\n",
    "# You can also import and use other parts\n",
    "from app import __version__\n",
    "\n",
    "print(f'App version: {__version__}')"
   ]
  }
 ],
 "metadata": {
  "kernelspec": {
   "display_name": ".venv",
   "language": "python",
   "name": "python3"
  },
  "language_info": {
   "codemirror_mode": {
    "name": "ipython",
    "version": 3
   },
   "file_extension": ".py",
   "mimetype": "text/x-python",
   "name": "python",
   "nbconvert_exporter": "python",
   "pygments_lexer": "ipython3",
   "version": "3.13.2"
  }
 },
 "nbformat": 4,
 "nbformat_minor": 4
}
