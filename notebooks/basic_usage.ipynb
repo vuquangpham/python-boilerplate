{
 "cells": [
  {
   "cell_type": "code",
   "execution_count": 6,
   "metadata": {},
   "outputs": [
    {
     "name": "stdout",
     "output_type": "stream",
     "text": [
      "✅ Configuration loaded successfully!\n",
      "🔧 Config loaded from: Common(logging=Logging(level='INFO', format='%(asctime)s - %(name)s - %(levelname)s - %(message)s', output=PosixPath('logs')))\n",
      "📊 Logging level: INFO\n"
     ]
    }
   ],
   "source": [
    "# Load configuration and display app info\n",
    "from utils.config import load_config\n",
    "\n",
    "# Load configuration\n",
    "config = load_config()\n",
    "\n",
    "# Set up logging\n",
    "print('✅ Configuration loaded successfully!')\n",
    "\n",
    "# Display some config info\n",
    "print(f'🔧 Config loaded from: {config}')\n",
    "print(f'📊 Logging level: {config.logging.level}')"
   ]
  }
 ],
 "metadata": {
  "kernelspec": {
   "display_name": ".venv",
   "language": "python",
   "name": "python3"
  },
  "language_info": {
   "codemirror_mode": {
    "name": "ipython",
    "version": 3
   },
   "file_extension": ".py",
   "mimetype": "text/x-python",
   "name": "python",
   "nbconvert_exporter": "python",
   "pygments_lexer": "ipython3",
   "version": "3.13.7"
  }
 },
 "nbformat": 4,
 "nbformat_minor": 4
}
